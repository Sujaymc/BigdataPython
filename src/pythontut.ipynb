{
 "cells": [
  {
   "cell_type": "code",
   "execution_count": 6,
   "metadata": {},
   "outputs": [
    {
     "name": "stdout",
     "output_type": "stream",
     "text": [
      "Hello\n"
     ]
    }
   ],
   "source": [
    "print(\"Hello\")"
   ]
  },
  {
   "cell_type": "code",
   "execution_count": 11,
   "metadata": {},
   "outputs": [
    {
     "name": "stdout",
     "output_type": "stream",
     "text": [
      "a=6, b=10,c=50.0\n"
     ]
    }
   ],
   "source": [
    "a=4+2\n",
    "b=5*2\n",
    "c=(50*2)/2\n",
    "print(f'a={a}, b={b},c={c}')\n"
   ]
  },
  {
   "cell_type": "code",
   "execution_count": 12,
   "metadata": {},
   "outputs": [
    {
     "name": "stdout",
     "output_type": "stream",
     "text": [
      "a=11.5, b=11,c=2,d=10.0\n"
     ]
    }
   ],
   "source": [
    "a=23/2 #Classic division\n",
    "b=23//2 #floor division\n",
    "c=5%3 # Division remainder \n",
    "d= 15*2/3 #flooerd qutient * divisor +remainder\n",
    "print(f'a={a}, b={b},c={c},d={d}')"
   ]
  },
  {
   "cell_type": "code",
   "execution_count": 15,
   "metadata": {},
   "outputs": [
    {
     "name": "stdout",
     "output_type": "stream",
     "text": [
      "a=125, b=16\n"
     ]
    }
   ],
   "source": [
    "a=5**3\n",
    "b=2**4\n",
    "print(f'a={a}, b={b}')"
   ]
  },
  {
   "cell_type": "code",
   "execution_count": 16,
   "metadata": {},
   "outputs": [
    {
     "ename": "NameError",
     "evalue": "name 'x' is not defined",
     "output_type": "error",
     "traceback": [
      "\u001b[1;31m---------------------------------------------------------------------------\u001b[0m",
      "\u001b[1;31mNameError\u001b[0m                                 Traceback (most recent call last)",
      "Cell \u001b[1;32mIn[16], line 1\u001b[0m\n\u001b[1;32m----> 1\u001b[0m \u001b[43mx\u001b[49m\n",
      "\u001b[1;31mNameError\u001b[0m: name 'x' is not defined"
     ]
    }
   ],
   "source": [
    "x"
   ]
  },
  {
   "cell_type": "code",
   "execution_count": 25,
   "metadata": {},
   "outputs": [
    {
     "data": {
      "text/plain": [
       "355.0"
      ]
     },
     "execution_count": 25,
     "metadata": {},
     "output_type": "execute_result"
    }
   ],
   "source": [
    "27*13+12/3"
   ]
  },
  {
   "cell_type": "code",
   "execution_count": 28,
   "metadata": {},
   "outputs": [
    {
     "name": "stdout",
     "output_type": "stream",
     "text": [
      "397.0\n",
      "23.132\n"
     ]
    }
   ],
   "source": [
    "Age= 42\n",
    "Flt = 23.13241\n",
    "print(Age+ _)\n",
    "print(round(Flt,3))"
   ]
  },
  {
   "cell_type": "code",
   "execution_count": 33,
   "metadata": {},
   "outputs": [
    {
     "name": "stdout",
     "output_type": "stream",
     "text": [
      "won't\n",
      "won't\n",
      "\"Hello WORLD!!!\"\n",
      "\"Hello\" \n",
      " WORLD!!!\n"
     ]
    }
   ],
   "source": [
    "print('won\\'t')\n",
    "#wont print('won't')\n",
    "print(\"won't\")\n",
    "print('\"Hello WORLD!!!\"')\n",
    "#wont print(\"\"Hello\" WORLD!!!\") \n",
    "print(\"\\\"Hello\\\" \\n WORLD!!!\")"
   ]
  },
  {
   "cell_type": "code",
   "execution_count": 36,
   "metadata": {},
   "outputs": [
    {
     "name": "stdout",
     "output_type": "stream",
     "text": [
      "this is\n",
      "ot second line\n",
      "this is\\not second line\n"
     ]
    }
   ],
   "source": [
    "print('this is\\not second line')\n",
    "print(r'this is\\not second line')"
   ]
  },
  {
   "cell_type": "code",
   "execution_count": 37,
   "metadata": {},
   "outputs": [
    {
     "data": {
      "text/plain": [
       "'hiiiii'"
      ]
     },
     "execution_count": 37,
     "metadata": {},
     "output_type": "execute_result"
    }
   ],
   "source": [
    "'h'+5* 'i'"
   ]
  },
  {
   "cell_type": "code",
   "execution_count": 40,
   "metadata": {},
   "outputs": [
    {
     "data": {
      "text/plain": [
       "'two lines inside the parenthesesare printed in one line'"
      ]
     },
     "execution_count": 40,
     "metadata": {},
     "output_type": "execute_result"
    }
   ],
   "source": [
    "lines= ('two lines inside the parentheses'\n",
    "         'are printed in one line')\n",
    "lines"
   ]
  },
  {
   "cell_type": "code",
   "execution_count": 52,
   "metadata": {},
   "outputs": [
    {
     "ename": "SyntaxError",
     "evalue": "invalid syntax (838900448.py, line 2)",
     "output_type": "error",
     "traceback": [
      "\u001b[1;36m  Cell \u001b[1;32mIn[52], line 2\u001b[1;36m\u001b[0m\n\u001b[1;33m    x 'd'\u001b[0m\n\u001b[1;37m      ^\u001b[0m\n\u001b[1;31mSyntaxError\u001b[0m\u001b[1;31m:\u001b[0m invalid syntax\n"
     ]
    }
   ],
   "source": [
    "x= 'abc'\n",
    "x 'd'"
   ]
  },
  {
   "cell_type": "code",
   "execution_count": 54,
   "metadata": {},
   "outputs": [
    {
     "data": {
      "text/plain": [
       "'abcd'"
      ]
     },
     "execution_count": 54,
     "metadata": {},
     "output_type": "execute_result"
    }
   ],
   "source": [
    "x + 'd'"
   ]
  },
  {
   "cell_type": "code",
   "execution_count": 60,
   "metadata": {},
   "outputs": [
    {
     "name": "stdout",
     "output_type": "stream",
     "text": [
      "numbers[0] = 1\n",
      "numbers[5] = 6\n",
      "numbers[-1] = 9\n",
      "numbers[-3] = 7\n",
      "numbers[0:2] = 12\n",
      "numbers[4:8] = 5678\n",
      "numbers[:2] = 12\n",
      "numbers[:32] = 123456789\n",
      "numbers[32:] = \n"
     ]
    }
   ],
   "source": [
    "numbers = '123456789'\n",
    "print(f'numbers[0] = {numbers[0]}')\n",
    "print(f'numbers[5] = {numbers[5]}')\n",
    "print(f'numbers[-1] = {numbers[-1]}')\n",
    "print(f'numbers[-3] = {numbers[-3]}')\n",
    "print(f'numbers[0:2] = {numbers[0:2]}')\n",
    "print(f'numbers[4:8] = {numbers[4:8]}')\n",
    "print(f'numbers[:2] = {numbers[:2]}')\n",
    "print(f'numbers[:32] = {numbers[:32]}')\n",
    "print(f'numbers[32:] = {numbers[32:]}')"
   ]
  },
  {
   "cell_type": "code",
   "execution_count": 63,
   "metadata": {},
   "outputs": [
    {
     "data": {
      "text/plain": [
       "['Apple', 'Orange', 'Banana', 'Pineapple']"
      ]
     },
     "execution_count": 63,
     "metadata": {},
     "output_type": "execute_result"
    }
   ],
   "source": [
    "list1= ['Apple','Orange', 'Banana']\n",
    "#Add Pineapple\n",
    "list1.append('Pineapple') \n",
    "list1"
   ]
  },
  {
   "cell_type": "code",
   "execution_count": 64,
   "metadata": {},
   "outputs": [
    {
     "data": {
      "text/plain": [
       "['Apple', 'Banana', 'Pineapple']"
      ]
     },
     "execution_count": 64,
     "metadata": {},
     "output_type": "execute_result"
    }
   ],
   "source": [
    "list1[1:2]=[]\n",
    "list1"
   ]
  },
  {
   "cell_type": "code",
   "execution_count": 67,
   "metadata": {},
   "outputs": [
    {
     "name": "stdout",
     "output_type": "stream",
     "text": [
      "0,1,1,2,3,5,8,"
     ]
    }
   ],
   "source": [
    "x,y= 0,1\n",
    "while x<10 :\n",
    "    print(x,end=',')\n",
    "    x,y =y ,x+y"
   ]
  },
  {
   "cell_type": "code",
   "execution_count": 71,
   "metadata": {},
   "outputs": [
    {
     "name": "stdout",
     "output_type": "stream",
     "text": [
      "Adult\n"
     ]
    }
   ],
   "source": [
    "age =int(input(\"Enter age\"))\n",
    "if age<=13:\n",
    "    print(\"CHILD\")\n",
    "elif age < 18 :\n",
    "    print(\"Teen\")\n",
    "else:\n",
    "    print(\"Adult\") "
   ]
  },
  {
   "cell_type": "code",
   "execution_count": 72,
   "metadata": {},
   "outputs": [
    {
     "name": "stdout",
     "output_type": "stream",
     "text": [
      "Apple 5\n",
      "Banana 6\n",
      "Pineapple 9\n"
     ]
    }
   ],
   "source": [
    "for l in list1:\n",
    "    print(l,len(l))"
   ]
  },
  {
   "cell_type": "code",
   "execution_count": 73,
   "metadata": {},
   "outputs": [
    {
     "name": "stdout",
     "output_type": "stream",
     "text": [
      "0,1,2,3,4,5,6,7,8,9,"
     ]
    }
   ],
   "source": [
    "for i in range(10):\n",
    "    print(i,end=',')"
   ]
  },
  {
   "cell_type": "code",
   "execution_count": 75,
   "metadata": {},
   "outputs": [
    {
     "name": "stdout",
     "output_type": "stream",
     "text": [
      "0 Apple\n",
      "1 Orange\n",
      "2 Banana\n"
     ]
    }
   ],
   "source": [
    "list2= ['Apple','Orange', 'Banana']\n",
    "for i in range(len(list2)):\n",
    "    print(i,list2[i])"
   ]
  },
  {
   "cell_type": "code",
   "execution_count": 76,
   "metadata": {},
   "outputs": [
    {
     "name": "stdout",
     "output_type": "stream",
     "text": [
      "Not found\n",
      "Not found\n",
      "Its 28\n"
     ]
    }
   ],
   "source": [
    "numbers = [6, 15, 28, 17, 35, 40]\n",
    "\n",
    "for num in numbers:\n",
    "    if num == 28:\n",
    "        print(\"Its 28\")\n",
    "        break  # Exit the loop when 20 is found\n",
    "    print(\"Not found\")"
   ]
  },
  {
   "cell_type": "code",
   "execution_count": 77,
   "metadata": {},
   "outputs": [
    {
     "name": "stdout",
     "output_type": "stream",
     "text": [
      "Odd number: 1\n",
      "Odd number: 3\n",
      "Odd number: 5\n",
      "Odd number: 7\n"
     ]
    }
   ],
   "source": [
    "for num in range(1, 8):\n",
    "    if num % 2 == 0:\n",
    "        continue  \n",
    "    print(f\"Odd number: {num}\")"
   ]
  },
  {
   "cell_type": "code",
   "execution_count": 14,
   "metadata": {},
   "outputs": [
    {
     "name": "stdout",
     "output_type": "stream",
     "text": [
      "2.2.2.2.2.2.2.2.2.2."
     ]
    }
   ],
   "source": [
    "for i in range(0,10):\n",
    "    for x in (2,5):\n",
    "        if x/2 == 1:\n",
    "            print(x, end='.')\n",
    "        break"
   ]
  },
  {
   "cell_type": "code",
   "execution_count": 18,
   "metadata": {},
   "outputs": [
    {
     "name": "stdout",
     "output_type": "stream",
     "text": [
      "2.5\n",
      "2.5\n",
      "2.5\n",
      "2.5\n",
      "2.5\n",
      "2.5\n",
      "2.5\n",
      "2.5\n",
      "2.5\n",
      "2.5\n"
     ]
    }
   ],
   "source": [
    "for i in range(0,10):\n",
    "    for x in (2,5):\n",
    "        if x/2 == 1:\n",
    "            print(x, end='.')\n",
    "        continue\n",
    "    print(x)"
   ]
  },
  {
   "cell_type": "code",
   "execution_count": null,
   "metadata": {},
   "outputs": [],
   "source": []
  }
 ],
 "metadata": {
  "kernelspec": {
   "display_name": "Python 3",
   "language": "python",
   "name": "python3"
  },
  "language_info": {
   "codemirror_mode": {
    "name": "ipython",
    "version": 3
   },
   "file_extension": ".py",
   "mimetype": "text/x-python",
   "name": "python",
   "nbconvert_exporter": "python",
   "pygments_lexer": "ipython3",
   "version": "3.12.7"
  }
 },
 "nbformat": 4,
 "nbformat_minor": 2
}
