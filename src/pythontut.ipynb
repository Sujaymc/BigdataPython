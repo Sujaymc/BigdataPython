{
 "cells": [
  {
   "cell_type": "code",
   "execution_count": 6,
   "metadata": {},
   "outputs": [
    {
     "name": "stdout",
     "output_type": "stream",
     "text": [
      "Hello\n"
     ]
    }
   ],
   "source": [
    "print(\"Hello\")"
   ]
  },
  {
   "cell_type": "code",
   "execution_count": 11,
   "metadata": {},
   "outputs": [
    {
     "name": "stdout",
     "output_type": "stream",
     "text": [
      "a=6, b=10,c=50.0\n"
     ]
    }
   ],
   "source": [
    "a=4+2\n",
    "b=5*2\n",
    "c=(50*2)/2\n",
    "print(f'a={a}, b={b},c={c}')\n"
   ]
  },
  {
   "cell_type": "code",
   "execution_count": 12,
   "metadata": {},
   "outputs": [
    {
     "name": "stdout",
     "output_type": "stream",
     "text": [
      "a=11.5, b=11,c=2,d=10.0\n"
     ]
    }
   ],
   "source": [
    "a=23/2 #Classic division\n",
    "b=23//2 #floor division\n",
    "c=5%3 # Division remainder \n",
    "d= 15*2/3 #flooerd qutient * divisor +remainder\n",
    "print(f'a={a}, b={b},c={c},d={d}')"
   ]
  },
  {
   "cell_type": "code",
   "execution_count": 15,
   "metadata": {},
   "outputs": [
    {
     "name": "stdout",
     "output_type": "stream",
     "text": [
      "a=125, b=16\n"
     ]
    }
   ],
   "source": [
    "a=5**3\n",
    "b=2**4\n",
    "print(f'a={a}, b={b}')"
   ]
  },
  {
   "cell_type": "code",
   "execution_count": 16,
   "metadata": {},
   "outputs": [
    {
     "ename": "NameError",
     "evalue": "name 'x' is not defined",
     "output_type": "error",
     "traceback": [
      "\u001b[1;31m---------------------------------------------------------------------------\u001b[0m",
      "\u001b[1;31mNameError\u001b[0m                                 Traceback (most recent call last)",
      "Cell \u001b[1;32mIn[16], line 1\u001b[0m\n\u001b[1;32m----> 1\u001b[0m \u001b[43mx\u001b[49m\n",
      "\u001b[1;31mNameError\u001b[0m: name 'x' is not defined"
     ]
    }
   ],
   "source": [
    "x"
   ]
  },
  {
   "cell_type": "code",
   "execution_count": 25,
   "metadata": {},
   "outputs": [
    {
     "data": {
      "text/plain": [
       "355.0"
      ]
     },
     "execution_count": 25,
     "metadata": {},
     "output_type": "execute_result"
    }
   ],
   "source": [
    "27*13+12/3"
   ]
  },
  {
   "cell_type": "code",
   "execution_count": 28,
   "metadata": {},
   "outputs": [
    {
     "name": "stdout",
     "output_type": "stream",
     "text": [
      "397.0\n",
      "23.132\n"
     ]
    }
   ],
   "source": [
    "Age= 42\n",
    "Flt = 23.13241\n",
    "print(Age+ _)\n",
    "print(round(Flt,3))"
   ]
  },
  {
   "cell_type": "code",
   "execution_count": 33,
   "metadata": {},
   "outputs": [
    {
     "name": "stdout",
     "output_type": "stream",
     "text": [
      "won't\n",
      "won't\n",
      "\"Hello WORLD!!!\"\n",
      "\"Hello\" \n",
      " WORLD!!!\n"
     ]
    }
   ],
   "source": [
    "print('won\\'t')\n",
    "#wont print('won't')\n",
    "print(\"won't\")\n",
    "print('\"Hello WORLD!!!\"')\n",
    "#wont print(\"\"Hello\" WORLD!!!\") \n",
    "print(\"\\\"Hello\\\" \\n WORLD!!!\")"
   ]
  },
  {
   "cell_type": "code",
   "execution_count": 36,
   "metadata": {},
   "outputs": [
    {
     "name": "stdout",
     "output_type": "stream",
     "text": [
      "this is\n",
      "ot second line\n",
      "this is\\not second line\n"
     ]
    }
   ],
   "source": [
    "print('this is\\not second line')\n",
    "print(r'this is\\not second line')"
   ]
  },
  {
   "cell_type": "code",
   "execution_count": 37,
   "metadata": {},
   "outputs": [
    {
     "data": {
      "text/plain": [
       "'hiiiii'"
      ]
     },
     "execution_count": 37,
     "metadata": {},
     "output_type": "execute_result"
    }
   ],
   "source": [
    "'h'+5* 'i'"
   ]
  },
  {
   "cell_type": "code",
   "execution_count": 40,
   "metadata": {},
   "outputs": [
    {
     "data": {
      "text/plain": [
       "'two lines inside the parenthesesare printed in one line'"
      ]
     },
     "execution_count": 40,
     "metadata": {},
     "output_type": "execute_result"
    }
   ],
   "source": [
    "lines= ('two lines inside the parentheses'\n",
    "         'are printed in one line')\n",
    "lines"
   ]
  },
  {
   "cell_type": "code",
   "execution_count": 52,
   "metadata": {},
   "outputs": [
    {
     "ename": "SyntaxError",
     "evalue": "invalid syntax (838900448.py, line 2)",
     "output_type": "error",
     "traceback": [
      "\u001b[1;36m  Cell \u001b[1;32mIn[52], line 2\u001b[1;36m\u001b[0m\n\u001b[1;33m    x 'd'\u001b[0m\n\u001b[1;37m      ^\u001b[0m\n\u001b[1;31mSyntaxError\u001b[0m\u001b[1;31m:\u001b[0m invalid syntax\n"
     ]
    }
   ],
   "source": [
    "x= 'abc'\n",
    "x 'd'"
   ]
  },
  {
   "cell_type": "code",
   "execution_count": 54,
   "metadata": {},
   "outputs": [
    {
     "data": {
      "text/plain": [
       "'abcd'"
      ]
     },
     "execution_count": 54,
     "metadata": {},
     "output_type": "execute_result"
    }
   ],
   "source": [
    "x + 'd'"
   ]
  },
  {
   "cell_type": "code",
   "execution_count": 60,
   "metadata": {},
   "outputs": [
    {
     "name": "stdout",
     "output_type": "stream",
     "text": [
      "numbers[0] = 1\n",
      "numbers[5] = 6\n",
      "numbers[-1] = 9\n",
      "numbers[-3] = 7\n",
      "numbers[0:2] = 12\n",
      "numbers[4:8] = 5678\n",
      "numbers[:2] = 12\n",
      "numbers[:32] = 123456789\n",
      "numbers[32:] = \n"
     ]
    }
   ],
   "source": [
    "numbers = '123456789'\n",
    "print(f'numbers[0] = {numbers[0]}')\n",
    "print(f'numbers[5] = {numbers[5]}')\n",
    "print(f'numbers[-1] = {numbers[-1]}')\n",
    "print(f'numbers[-3] = {numbers[-3]}')\n",
    "print(f'numbers[0:2] = {numbers[0:2]}')\n",
    "print(f'numbers[4:8] = {numbers[4:8]}')\n",
    "print(f'numbers[:2] = {numbers[:2]}')\n",
    "print(f'numbers[:32] = {numbers[:32]}')\n",
    "print(f'numbers[32:] = {numbers[32:]}')"
   ]
  },
  {
   "cell_type": "code",
   "execution_count": 63,
   "metadata": {},
   "outputs": [
    {
     "data": {
      "text/plain": [
       "['Apple', 'Orange', 'Banana', 'Pineapple']"
      ]
     },
     "execution_count": 63,
     "metadata": {},
     "output_type": "execute_result"
    }
   ],
   "source": [
    "list1= ['Apple','Orange', 'Banana']\n",
    "#Add Pineapple\n",
    "list1.append('Pineapple') \n",
    "list1"
   ]
  },
  {
   "cell_type": "code",
   "execution_count": 64,
   "metadata": {},
   "outputs": [
    {
     "data": {
      "text/plain": [
       "['Apple', 'Banana', 'Pineapple']"
      ]
     },
     "execution_count": 64,
     "metadata": {},
     "output_type": "execute_result"
    }
   ],
   "source": [
    "list1[1:2]=[]\n",
    "list1"
   ]
  },
  {
   "cell_type": "code",
   "execution_count": 67,
   "metadata": {},
   "outputs": [
    {
     "name": "stdout",
     "output_type": "stream",
     "text": [
      "0,1,1,2,3,5,8,"
     ]
    }
   ],
   "source": [
    "x,y= 0,1\n",
    "while x<10 :\n",
    "    print(x,end=',')\n",
    "    x,y =y ,x+y"
   ]
  },
  {
   "cell_type": "code",
   "execution_count": 71,
   "metadata": {},
   "outputs": [
    {
     "name": "stdout",
     "output_type": "stream",
     "text": [
      "Adult\n"
     ]
    }
   ],
   "source": [
    "age =int(input(\"Enter age\"))\n",
    "if age<=13:\n",
    "    print(\"CHILD\")\n",
    "elif age < 18 :\n",
    "    print(\"Teen\")\n",
    "else:\n",
    "    print(\"Adult\") "
   ]
  },
  {
   "cell_type": "code",
   "execution_count": 72,
   "metadata": {},
   "outputs": [
    {
     "name": "stdout",
     "output_type": "stream",
     "text": [
      "Apple 5\n",
      "Banana 6\n",
      "Pineapple 9\n"
     ]
    }
   ],
   "source": [
    "for l in list1:\n",
    "    print(l,len(l))"
   ]
  },
  {
   "cell_type": "code",
   "execution_count": 73,
   "metadata": {},
   "outputs": [
    {
     "name": "stdout",
     "output_type": "stream",
     "text": [
      "0,1,2,3,4,5,6,7,8,9,"
     ]
    }
   ],
   "source": [
    "for i in range(10):\n",
    "    print(i,end=',')"
   ]
  },
  {
   "cell_type": "code",
   "execution_count": 75,
   "metadata": {},
   "outputs": [
    {
     "name": "stdout",
     "output_type": "stream",
     "text": [
      "0 Apple\n",
      "1 Orange\n",
      "2 Banana\n"
     ]
    }
   ],
   "source": [
    "list2= ['Apple','Orange', 'Banana']\n",
    "for i in range(len(list2)):\n",
    "    print(i,list2[i])"
   ]
  },
  {
   "cell_type": "code",
   "execution_count": 76,
   "metadata": {},
   "outputs": [
    {
     "name": "stdout",
     "output_type": "stream",
     "text": [
      "Not found\n",
      "Not found\n",
      "Its 28\n"
     ]
    }
   ],
   "source": [
    "numbers = [6, 15, 28, 17, 35, 40]\n",
    "\n",
    "for num in numbers:\n",
    "    if num == 28:\n",
    "        print(\"Its 28\")\n",
    "        break  # Exit the loop when 20 is found\n",
    "    print(\"Not found\")"
   ]
  },
  {
   "cell_type": "code",
   "execution_count": 77,
   "metadata": {},
   "outputs": [
    {
     "name": "stdout",
     "output_type": "stream",
     "text": [
      "Odd number: 1\n",
      "Odd number: 3\n",
      "Odd number: 5\n",
      "Odd number: 7\n"
     ]
    }
   ],
   "source": [
    "for num in range(1, 8):\n",
    "    if num % 2 == 0:\n",
    "        continue  \n",
    "    print(f\"Odd number: {num}\")"
   ]
  },
  {
   "cell_type": "code",
   "execution_count": 14,
   "metadata": {},
   "outputs": [
    {
     "name": "stdout",
     "output_type": "stream",
     "text": [
      "2.2.2.2.2.2.2.2.2.2."
     ]
    }
   ],
   "source": [
    "for i in range(0,10):\n",
    "    for x in (2,5):\n",
    "        if x/2 == 1:\n",
    "            print(x, end='.')\n",
    "        break"
   ]
  },
  {
   "cell_type": "code",
   "execution_count": 18,
   "metadata": {},
   "outputs": [
    {
     "name": "stdout",
     "output_type": "stream",
     "text": [
      "2.5\n",
      "2.5\n",
      "2.5\n",
      "2.5\n",
      "2.5\n",
      "2.5\n",
      "2.5\n",
      "2.5\n",
      "2.5\n",
      "2.5\n"
     ]
    }
   ],
   "source": [
    "for i in range(0,10):\n",
    "    for x in (2,5):\n",
    "        if x/2 == 1:\n",
    "            print(x, end='.')\n",
    "        continue\n",
    "    print(x)"
   ]
  },
  {
   "cell_type": "code",
   "execution_count": 26,
   "metadata": {},
   "outputs": [
    {
     "data": {
      "text/plain": [
       "6.666666666666667"
      ]
     },
     "execution_count": 26,
     "metadata": {},
     "output_type": "execute_result"
    }
   ],
   "source": [
    "20/3\n"
   ]
  },
  {
   "cell_type": "code",
   "execution_count": 24,
   "metadata": {},
   "outputs": [
    {
     "data": {
      "text/plain": [
       "6.67"
      ]
     },
     "execution_count": 24,
     "metadata": {},
     "output_type": "execute_result"
    }
   ],
   "source": [
    "round(_, 2)"
   ]
  },
  {
   "cell_type": "code",
   "execution_count": null,
   "metadata": {},
   "outputs": [
    {
     "ename": "NameError",
     "evalue": "name 'n' is not defined",
     "output_type": "error",
     "traceback": [
      "\u001b[1;31m---------------------------------------------------------------------------\u001b[0m",
      "\u001b[1;31mNameError\u001b[0m                                 Traceback (most recent call last)",
      "Cell \u001b[1;32mIn[27], line 1\u001b[0m\n\u001b[1;32m----> 1\u001b[0m \u001b[43mn\u001b[49m\n",
      "\u001b[1;31mNameError\u001b[0m: name 'n' is not defined"
     ]
    }
   ],
   "source": [
    "n"
   ]
  },
  {
   "cell_type": "code",
   "execution_count": 48,
   "metadata": {},
   "outputs": [
    {
     "name": "stdout",
     "output_type": "stream",
     "text": [
      "D:\\BigdataPython\\src\\pythontut.ipynb\n"
     ]
    }
   ],
   "source": [
    "print(\"D:\\\\BigdataPython\\\\src\\\\pythontut.ipynb\")"
   ]
  },
  {
   "cell_type": "code",
   "execution_count": null,
   "metadata": {},
   "outputs": [
    {
     "ename": "TypeError",
     "evalue": "<enum 'Animal'> has no members; specify `names=()` if you meant to create a new, empty, enum",
     "output_type": "error",
     "traceback": [
      "\u001b[1;31m---------------------------------------------------------------------------\u001b[0m",
      "\u001b[1;31mTypeError\u001b[0m                                 Traceback (most recent call last)",
      "Cell \u001b[1;32mIn[70], line 7\u001b[0m\n\u001b[0;32m      4\u001b[0m     CAT:\u001b[38;5;124m'\u001b[39m\u001b[38;5;124mCat\u001b[39m\u001b[38;5;124m'\u001b[39m\n\u001b[0;32m      5\u001b[0m     TIGER: \u001b[38;5;124m'\u001b[39m\u001b[38;5;124mTiger\u001b[39m\u001b[38;5;124m'\u001b[39m\n\u001b[1;32m----> 7\u001b[0m animal \u001b[38;5;241m=\u001b[39m\u001b[43mAnimal\u001b[49m\u001b[43m(\u001b[49m\u001b[38;5;28;43minput\u001b[39;49m\u001b[43m(\u001b[49m\u001b[38;5;124;43m'\u001b[39;49m\u001b[38;5;124;43mEnter the animal name\u001b[39;49m\u001b[38;5;124;43m'\u001b[39;49m\u001b[43m)\u001b[49m\u001b[43m)\u001b[49m\n\u001b[0;32m      9\u001b[0m \u001b[38;5;28;01mmatch\u001b[39;00m animal:\n\u001b[0;32m     10\u001b[0m     \u001b[38;5;28;01mcase\u001b[39;00m Animal\u001b[38;5;241m.\u001b[39mDOG:\n",
      "File \u001b[1;32mC:\\Program Files\\WindowsApps\\PythonSoftwareFoundation.Python.3.12_3.12.2032.0_x64__qbz5n2kfra8p0\\Lib\\enum.py:761\u001b[0m, in \u001b[0;36mEnumType.__call__\u001b[1;34m(cls, value, names, module, qualname, type, start, boundary, *values)\u001b[0m\n\u001b[0;32m    758\u001b[0m \u001b[38;5;66;03m# otherwise, functional API: we're creating a new Enum type\u001b[39;00m\n\u001b[0;32m    759\u001b[0m \u001b[38;5;28;01mif\u001b[39;00m names \u001b[38;5;129;01mis\u001b[39;00m _not_given \u001b[38;5;129;01mand\u001b[39;00m \u001b[38;5;28mtype\u001b[39m \u001b[38;5;129;01mis\u001b[39;00m \u001b[38;5;28;01mNone\u001b[39;00m:\n\u001b[0;32m    760\u001b[0m     \u001b[38;5;66;03m# no body? no data-type? possibly wrong usage\u001b[39;00m\n\u001b[1;32m--> 761\u001b[0m     \u001b[38;5;28;01mraise\u001b[39;00m \u001b[38;5;167;01mTypeError\u001b[39;00m(\n\u001b[0;32m    762\u001b[0m             \u001b[38;5;124mf\u001b[39m\u001b[38;5;124m\"\u001b[39m\u001b[38;5;132;01m{\u001b[39;00m\u001b[38;5;28mcls\u001b[39m\u001b[38;5;132;01m}\u001b[39;00m\u001b[38;5;124m has no members; specify `names=()` if you meant to create a new, empty, enum\u001b[39m\u001b[38;5;124m\"\u001b[39m\n\u001b[0;32m    763\u001b[0m             )\n\u001b[0;32m    764\u001b[0m \u001b[38;5;28;01mreturn\u001b[39;00m \u001b[38;5;28mcls\u001b[39m\u001b[38;5;241m.\u001b[39m_create_(\n\u001b[0;32m    765\u001b[0m         class_name\u001b[38;5;241m=\u001b[39mvalue,\n\u001b[0;32m    766\u001b[0m         names\u001b[38;5;241m=\u001b[39m\u001b[38;5;28;01mNone\u001b[39;00m \u001b[38;5;28;01mif\u001b[39;00m names \u001b[38;5;129;01mis\u001b[39;00m _not_given \u001b[38;5;28;01melse\u001b[39;00m names,\n\u001b[1;32m   (...)\u001b[0m\n\u001b[0;32m    771\u001b[0m         boundary\u001b[38;5;241m=\u001b[39mboundary,\n\u001b[0;32m    772\u001b[0m         )\n",
      "\u001b[1;31mTypeError\u001b[0m: <enum 'Animal'> has no members; specify `names=()` if you meant to create a new, empty, enum"
     ]
    }
   ],
   "source": [
    "\n",
    "match animal:\n",
    "    case Animal.DOG:\n",
    "        print('Its a Dog')\n",
    "    case Animal.CAT:\n",
    "        print('Its a Cat')\n",
    "    case Animal.TIGER:\n",
    "        print('Its a Tiger')\n"
   ]
  },
  {
   "cell_type": "code",
   "execution_count": 79,
   "metadata": {},
   "outputs": [
    {
     "data": {
      "text/plain": [
       "'Yes, I had my breakfast'"
      ]
     },
     "execution_count": 79,
     "metadata": {},
     "output_type": "execute_result"
    }
   ],
   "source": [
    "def breakfast(prompt, retires= 4,reminder='Enter again'):\n",
    "    while True:\n",
    "        reply =input(prompt)\n",
    "        if reply in {'y','ye','yes'}:\n",
    "            return 'Yes, I had my breakfast'\n",
    "        if reply in {'n','no'}:\n",
    "            return 'No, I dint have'\n",
    "        retires =retires -1 \n",
    "        if retires <0: \n",
    "            raise ValueError('Invalid entry')\n",
    "        print(reminder)\n",
    "\n",
    "breakfast(\"Did you have breakfast?\")"
   ]
  },
  {
   "cell_type": "code",
   "execution_count": 74,
   "metadata": {},
   "outputs": [
    {
     "name": "stdout",
     "output_type": "stream",
     "text": [
      "Hello\n"
     ]
    }
   ],
   "source": [
    "text=\"Hello\"\n",
    "result = text.center(2,'*')\n",
    "print(result)"
   ]
  },
  {
   "cell_type": "code",
   "execution_count": 93,
   "metadata": {},
   "outputs": [],
   "source": [
    "def animal(name, age='not given', color='not given'):\n",
    "    print(\"Yes,its a\",name)\n",
    "    print(\"The age is\", age)\n",
    "    print(\"The color is\",color)\n",
    "\n"
   ]
  },
  {
   "cell_type": "code",
   "execution_count": 94,
   "metadata": {},
   "outputs": [
    {
     "name": "stdout",
     "output_type": "stream",
     "text": [
      "Yes,its a dog\n",
      "The age is not given\n",
      "The color is not given\n"
     ]
    }
   ],
   "source": [
    "animal('dog')"
   ]
  },
  {
   "cell_type": "code",
   "execution_count": 95,
   "metadata": {},
   "outputs": [
    {
     "name": "stdout",
     "output_type": "stream",
     "text": [
      "Yes,its a dog\n",
      "The age is 10\n",
      "The color is not given\n"
     ]
    }
   ],
   "source": [
    "animal('dog',age=10) "
   ]
  },
  {
   "cell_type": "code",
   "execution_count": 96,
   "metadata": {},
   "outputs": [
    {
     "name": "stdout",
     "output_type": "stream",
     "text": [
      "Yes,its a cat\n",
      "The age is 5\n",
      "The color is blue\n"
     ]
    }
   ],
   "source": [
    "animal('cat',age=5,color='blue')"
   ]
  },
  {
   "cell_type": "code",
   "execution_count": null,
   "metadata": {},
   "outputs": [],
   "source": []
  }
 ],
 "metadata": {
  "kernelspec": {
   "display_name": "Python 3",
   "language": "python",
   "name": "python3"
  },
  "language_info": {
   "codemirror_mode": {
    "name": "ipython",
    "version": 3
   },
   "file_extension": ".py",
   "mimetype": "text/x-python",
   "name": "python",
   "nbconvert_exporter": "python",
   "pygments_lexer": "ipython3",
   "version": "3.12.7"
  }
 },
 "nbformat": 4,
 "nbformat_minor": 2
}
