{
 "cells": [
  {
   "cell_type": "code",
   "execution_count": 1,
   "metadata": {},
   "outputs": [
    {
     "name": "stdout",
     "output_type": "stream",
     "text": [
      "Defaulting to user installation because normal site-packages is not writeable\n",
      "Collecting mysql-connector-python\n",
      "  Downloading mysql_connector_python-9.1.0-cp312-cp312-win_amd64.whl.metadata (6.2 kB)\n",
      "Downloading mysql_connector_python-9.1.0-cp312-cp312-win_amd64.whl (16.1 MB)\n",
      "   ---------------------------------------- 0.0/16.1 MB ? eta -:--:--\n",
      "   - -------------------------------------- 0.5/16.1 MB 2.4 MB/s eta 0:00:07\n",
      "   - -------------------------------------- 0.8/16.1 MB 2.4 MB/s eta 0:00:07\n",
      "   -- ------------------------------------- 1.0/16.1 MB 1.8 MB/s eta 0:00:09\n",
      "   --- ------------------------------------ 1.6/16.1 MB 1.9 MB/s eta 0:00:08\n",
      "   ----- ---------------------------------- 2.4/16.1 MB 2.2 MB/s eta 0:00:07\n",
      "   -------- ------------------------------- 3.4/16.1 MB 2.9 MB/s eta 0:00:05\n",
      "   ---------- ----------------------------- 4.2/16.1 MB 2.9 MB/s eta 0:00:05\n",
      "   ------------ --------------------------- 5.0/16.1 MB 3.1 MB/s eta 0:00:04\n",
      "   --------------- ------------------------ 6.3/16.1 MB 3.4 MB/s eta 0:00:03\n",
      "   ------------------ --------------------- 7.3/16.1 MB 3.7 MB/s eta 0:00:03\n",
      "   ------------------- -------------------- 7.9/16.1 MB 3.6 MB/s eta 0:00:03\n",
      "   ---------------------- ----------------- 8.9/16.1 MB 3.7 MB/s eta 0:00:02\n",
      "   ------------------------ --------------- 10.0/16.1 MB 3.8 MB/s eta 0:00:02\n",
      "   -------------------------- ------------- 10.7/16.1 MB 3.8 MB/s eta 0:00:02\n",
      "   ---------------------------- ----------- 11.3/16.1 MB 3.7 MB/s eta 0:00:02\n",
      "   ----------------------------- ---------- 11.8/16.1 MB 3.7 MB/s eta 0:00:02\n",
      "   ------------------------------ --------- 12.1/16.1 MB 3.5 MB/s eta 0:00:02\n",
      "   -------------------------------- ------- 13.1/16.1 MB 3.6 MB/s eta 0:00:01\n",
      "   ------------------------------------ --- 14.7/16.1 MB 3.8 MB/s eta 0:00:01\n",
      "   ---------------------------------------  16.0/16.1 MB 3.9 MB/s eta 0:00:01\n",
      "   ---------------------------------------- 16.1/16.1 MB 3.9 MB/s eta 0:00:00\n",
      "Installing collected packages: mysql-connector-python\n",
      "Successfully installed mysql-connector-python-9.1.0\n",
      "Note: you may need to restart the kernel to use updated packages.\n"
     ]
    },
    {
     "name": "stderr",
     "output_type": "stream",
     "text": [
      "\n",
      "[notice] A new release of pip is available: 24.2 -> 24.3.1\n",
      "[notice] To update, run: C:\\Users\\sujay\\AppData\\Local\\Microsoft\\WindowsApps\\PythonSoftwareFoundation.Python.3.12_qbz5n2kfra8p0\\python.exe -m pip install --upgrade pip\n"
     ]
    }
   ],
   "source": [
    "pip install mysql-connector-python\n"
   ]
  },
  {
   "cell_type": "code",
   "execution_count": 2,
   "metadata": {},
   "outputs": [
    {
     "name": "stdout",
     "output_type": "stream",
     "text": [
      "Defaulting to user installation because normal site-packages is not writeable\n",
      "Requirement already satisfied: sqlalchemy in c:\\users\\sujay\\appdata\\local\\packages\\pythonsoftwarefoundation.python.3.12_qbz5n2kfra8p0\\localcache\\local-packages\\python312\\site-packages (2.0.36)\n",
      "Collecting pymysql\n",
      "  Downloading PyMySQL-1.1.1-py3-none-any.whl.metadata (4.4 kB)\n",
      "Requirement already satisfied: typing-extensions>=4.6.0 in c:\\users\\sujay\\appdata\\local\\packages\\pythonsoftwarefoundation.python.3.12_qbz5n2kfra8p0\\localcache\\local-packages\\python312\\site-packages (from sqlalchemy) (4.12.2)\n",
      "Requirement already satisfied: greenlet!=0.4.17 in c:\\users\\sujay\\appdata\\local\\packages\\pythonsoftwarefoundation.python.3.12_qbz5n2kfra8p0\\localcache\\local-packages\\python312\\site-packages (from sqlalchemy) (3.1.1)\n",
      "Downloading PyMySQL-1.1.1-py3-none-any.whl (44 kB)\n",
      "Installing collected packages: pymysql\n",
      "Successfully installed pymysql-1.1.1\n",
      "Note: you may need to restart the kernel to use updated packages.\n"
     ]
    },
    {
     "name": "stderr",
     "output_type": "stream",
     "text": [
      "\n",
      "[notice] A new release of pip is available: 24.2 -> 24.3.1\n",
      "[notice] To update, run: C:\\Users\\sujay\\AppData\\Local\\Microsoft\\WindowsApps\\PythonSoftwareFoundation.Python.3.12_qbz5n2kfra8p0\\python.exe -m pip install --upgrade pip\n"
     ]
    }
   ],
   "source": [
    "pip install sqlalchemy pymysql"
   ]
  },
  {
   "cell_type": "code",
   "execution_count": 3,
   "metadata": {},
   "outputs": [],
   "source": [
    "from sqlalchemy import create_engine, MetaData, Table\n",
    "from sqlalchemy.orm import sessionmaker"
   ]
  },
  {
   "cell_type": "code",
   "execution_count": 8,
   "metadata": {},
   "outputs": [],
   "source": [
    "# Connection details\n",
    "username = \"root\"\n",
    "password = \"Type123.\"\n",
    "host = \"localhost\"  # Replace with your host if not local\n",
    "port = \"3306\"       # Default MySQL port\n",
    "database = \"bd\"\n",
    "\n",
    "# SQLAlchemy connection string\n",
    "connection_string = f\"mysql+pymysql://{username}:{password}@{host}:{port}/{database}\""
   ]
  },
  {
   "cell_type": "code",
   "execution_count": 9,
   "metadata": {},
   "outputs": [],
   "source": [
    "#Create an engine\n",
    "engine=create_engine(connection_string)"
   ]
  },
  {
   "cell_type": "code",
   "execution_count": 13,
   "metadata": {},
   "outputs": [
    {
     "data": {
      "text/html": [
       "<div>\n",
       "<style scoped>\n",
       "    .dataframe tbody tr th:only-of-type {\n",
       "        vertical-align: middle;\n",
       "    }\n",
       "\n",
       "    .dataframe tbody tr th {\n",
       "        vertical-align: top;\n",
       "    }\n",
       "\n",
       "    .dataframe thead th {\n",
       "        text-align: right;\n",
       "    }\n",
       "</style>\n",
       "<table border=\"1\" class=\"dataframe\">\n",
       "  <thead>\n",
       "    <tr style=\"text-align: right;\">\n",
       "      <th></th>\n",
       "      <th>DepartmentID</th>\n",
       "      <th>DepartmentName</th>\n",
       "      <th>ManagerID</th>\n",
       "    </tr>\n",
       "  </thead>\n",
       "  <tbody>\n",
       "    <tr>\n",
       "      <th>0</th>\n",
       "      <td>1</td>\n",
       "      <td>Marketing</td>\n",
       "      <td>1</td>\n",
       "    </tr>\n",
       "    <tr>\n",
       "      <th>1</th>\n",
       "      <td>2</td>\n",
       "      <td>Sales</td>\n",
       "      <td>2</td>\n",
       "    </tr>\n",
       "    <tr>\n",
       "      <th>2</th>\n",
       "      <td>3</td>\n",
       "      <td>IT</td>\n",
       "      <td>3</td>\n",
       "    </tr>\n",
       "    <tr>\n",
       "      <th>3</th>\n",
       "      <td>4</td>\n",
       "      <td>HR</td>\n",
       "      <td>4</td>\n",
       "    </tr>\n",
       "  </tbody>\n",
       "</table>\n",
       "</div>"
      ],
      "text/plain": [
       "   DepartmentID DepartmentName  ManagerID\n",
       "0             1      Marketing          1\n",
       "1             2          Sales          2\n",
       "2             3             IT          3\n",
       "3             4             HR          4"
      ]
     },
     "execution_count": 13,
     "metadata": {},
     "output_type": "execute_result"
    }
   ],
   "source": [
    "import pandas as pd\n",
    "df= pd.read_sql(\"departments\",con=engine)\n",
    "df"
   ]
  },
  {
   "cell_type": "code",
   "execution_count": 14,
   "metadata": {},
   "outputs": [],
   "source": [
    "new_df=pd.read_csv(\"D:\\\\Week 2\\\\example.csv\")"
   ]
  },
  {
   "cell_type": "code",
   "execution_count": 18,
   "metadata": {},
   "outputs": [],
   "source": [
    "databd=pd.DataFrame(new_df)\n",
    "table_name = \"new\""
   ]
  },
  {
   "cell_type": "code",
   "execution_count": 19,
   "metadata": {},
   "outputs": [
    {
     "name": "stdout",
     "output_type": "stream",
     "text": [
      "Data successfully loaded into 'new' table.\n"
     ]
    }
   ],
   "source": [
    "try:\n",
    "    # Write data to MySQL table\n",
    "    new_df.to_sql(table_name, con=engine, if_exists=\"replace\", index=False)\n",
    "    print(f\"Data successfully loaded into '{table_name}' table.\")\n",
    "except Exception as e:\n",
    "    print(f\"An error occurred: {e}\")"
   ]
  },
  {
   "cell_type": "code",
   "execution_count": null,
   "metadata": {},
   "outputs": [],
   "source": []
  }
 ],
 "metadata": {
  "kernelspec": {
   "display_name": "Python 3",
   "language": "python",
   "name": "python3"
  },
  "language_info": {
   "codemirror_mode": {
    "name": "ipython",
    "version": 3
   },
   "file_extension": ".py",
   "mimetype": "text/x-python",
   "name": "python",
   "nbconvert_exporter": "python",
   "pygments_lexer": "ipython3",
   "version": "3.12.7"
  }
 },
 "nbformat": 4,
 "nbformat_minor": 2
}
